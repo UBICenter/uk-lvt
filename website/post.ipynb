{
 "cells": [
  {
   "cell_type": "markdown",
   "metadata": {},
   "source": [
    "# Imputing land values to the FRS"
   ]
  },
  {
   "cell_type": "code",
   "execution_count": 1,
   "metadata": {},
   "outputs": [],
   "source": [
    "import plotly.express as px\n",
    "from ubicenter import format_fig\n",
    "import numpy as np\n",
    "import pandas as pd\n",
    "import microdf as mdf"
   ]
  },
  {
   "cell_type": "code",
   "execution_count": 2,
   "metadata": {},
   "outputs": [],
   "source": [
    "was = pd.read_csv(\"~/was.csv\")\n",
    "imputed_land = pd.read_csv(\"../frs_hh_pred_land.csv\")"
   ]
  },
  {
   "cell_type": "code",
   "execution_count": 3,
   "metadata": {},
   "outputs": [
    {
     "output_type": "execute_result",
     "data": {
      "text/plain": [
       "0.6154105080884578"
      ]
     },
     "metadata": {},
     "execution_count": 3
    }
   ],
   "source": [
    "mdf.gini(was, \"wealth\", \"weight\")"
   ]
  },
  {
   "cell_type": "code",
   "execution_count": 4,
   "metadata": {},
   "outputs": [
    {
     "output_type": "execute_result",
     "data": {
      "text/plain": [
       "0.6158429149616598"
      ]
     },
     "metadata": {},
     "execution_count": 4
    }
   ],
   "source": [
    "mdf.gini(was, \"est_land\", \"weight\")"
   ]
  },
  {
   "cell_type": "code",
   "execution_count": 5,
   "metadata": {},
   "outputs": [],
   "source": [
    "from openfisca_uk import Microsimulation\n",
    "\n",
    "sim = Microsimulation(year=2020)\n",
    "\n",
    "frs = sim.df([\"people\", \"net_income\"])\n",
    "frs[\"pred_land\"] = imputed_land\n",
    "\n",
    "LVT_RATE = 0.01\n",
    "pop = frs.people.sum()\n",
    "ubi = frs.pred_land.sum() * LVT_RATE / pop\n",
    "print(ubi)\n",
    "frs[\"lvt\"] = frs.pred_land * LVT_RATE\n",
    "frs[\"ubi\"] = ubi * frs.people\n",
    "frs[\"new_net_income\"] = frs.net_income - frs.lvt + frs.ubi"
   ]
  }
 ],
 "metadata": {
  "interpreter": {
   "hash": "4a68920d8e8856d089b03c157a7384bba62e0986489c1fa381bbe538cda0922c"
  },
  "kernelspec": {
   "name": "python3",
   "display_name": "Python 3.7.7 64-bit ('base': conda)"
  },
  "language_info": {
   "codemirror_mode": {
    "name": "ipython",
    "version": 3
   },
   "file_extension": ".py",
   "mimetype": "text/x-python",
   "name": "python",
   "nbconvert_exporter": "python",
   "pygments_lexer": "ipython3",
   "version": "3.7.7"
  }
 },
 "nbformat": 4,
 "nbformat_minor": 4
}